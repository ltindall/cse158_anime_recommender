{
 "cells": [
  {
   "cell_type": "markdown",
   "metadata": {},
   "source": [
    "# CSE 158 Assignment 2 \n",
    "\n",
    "Authors: Lucas Tindall and Kyle Smurlo\n",
    "\n",
    "Dataset: Anime recommendations https://www.kaggle.com/CooperUnion/anime-recommendations-database\n",
    "\n"
   ]
  },
  {
   "cell_type": "markdown",
   "metadata": {},
   "source": [
    "## Imports"
   ]
  },
  {
   "cell_type": "code",
   "execution_count": 17,
   "metadata": {
    "collapsed": false
   },
   "outputs": [],
   "source": [
    "import csv\n",
    "import random\n",
    "from collections import defaultdict\n",
    "\n",
    "import plotly.plotly as py\n",
    "import plotly.figure_factory as ff\n",
    "\n",
    "import numpy as np\n",
    "\n",
    "import plotly\n",
    "plotly.tools.set_credentials_file(username='ltindall', api_key='KdrHKAMyc6KdVcSvPMdN')"
   ]
  },
  {
   "cell_type": "markdown",
   "metadata": {},
   "source": [
    "## Get animes from csv"
   ]
  },
  {
   "cell_type": "code",
   "execution_count": 51,
   "metadata": {
    "collapsed": false
   },
   "outputs": [],
   "source": [
    "animes = []\n",
    "with open('anime.csv', 'rb') as file: \n",
    "    reader = csv.DictReader(file, delimiter=',')\n",
    "    for row in reader: \n",
    "        animes.append(row)\n",
    "        \n"
   ]
  },
  {
   "cell_type": "code",
   "execution_count": 48,
   "metadata": {
    "collapsed": false
   },
   "outputs": [],
   "source": [
    "# get dictionary of lists of genre ratings \n",
    "genreRatings = defaultdict(list)\n",
    "\n",
    "# for each anime \n",
    "for anime in animes: \n",
    "    # split all the genres listed for that review \n",
    "    for genre in anime['genre'].split(','): \n",
    "        # add rating to list for that genre\n",
    "        if len(anime['rating']) > 0:\n",
    "            genreRatings[genre.strip()].append(float(anime['rating']))\n",
    "\n",
    "topGenres = []\n",
    "for genre in sorted(genreRatings, key=lambda k: len(genreRatings[k]), reverse=True):\n",
    "    topGenres.append((genre,genreRatings[genre]))\n"
   ]
  },
  {
   "cell_type": "markdown",
   "metadata": {},
   "source": [
    "## Density plot of top 10 genre ratings "
   ]
  },
  {
   "cell_type": "code",
   "execution_count": 49,
   "metadata": {
    "collapsed": false
   },
   "outputs": [
    {
     "data": {
      "text/html": [
       "<iframe id=\"igraph\" scrolling=\"no\" style=\"border:none;\" seamless=\"seamless\" src=\"https://plot.ly/~ltindall/2.embed\" height=\"525px\" width=\"100%\"></iframe>"
      ],
      "text/plain": [
       "<plotly.tools.PlotlyDisplay object>"
      ]
     },
     "execution_count": 49,
     "metadata": {},
     "output_type": "execute_result"
    }
   ],
   "source": [
    "# Group data together\n",
    "hist_data = [genre[1] for genre in topGenres[:10]]\n",
    "#hist_data = [topGenres[0][1], topGenres[1][1], topGenres[2][1], topGenres[3][1]]\n",
    "\n",
    "group_labels = [genre[0] for genre in topGenres[:10]]\n",
    "#group_labels = [topGenres[0][0], topGenres[1][0], topGenres[2][0], topGenres[3][0]]\n",
    "\n",
    "# Create distplot with custom bin_size\n",
    "fig = ff.create_distplot(hist_data, group_labels, bin_size=.2)\n",
    "\n",
    "# Plot!\n",
    "py.iplot(fig, filename='Distplot with Multiple Datasets')"
   ]
  },
  {
   "cell_type": "markdown",
   "metadata": {},
   "source": [
    "## Get ratings from csv"
   ]
  },
  {
   "cell_type": "code",
   "execution_count": 16,
   "metadata": {
    "collapsed": false
   },
   "outputs": [
    {
     "data": {
      "text/plain": [
       "\"\\nwith open('rating.csv', 'rb') as file: \\n    reader = csv.reader(file)\\n    header, rows = next(reader), list(reader)\\n    random.shuffle(rows)\\n    \\nwith open('ratings_shuffled.csv', 'wb') as file: \\n    csv.writer(file).writerows([header] + rows)\\n\""
      ]
     },
     "execution_count": 16,
     "metadata": {},
     "output_type": "execute_result"
    }
   ],
   "source": [
    "# shuffle ratings since original file is sorted by user id \n",
    "'''\n",
    "with open('rating.csv', 'rb') as file: \n",
    "    reader = csv.reader(file)\n",
    "    header, rows = next(reader), list(reader)\n",
    "    random.shuffle(rows)\n",
    "    \n",
    "with open('ratings_shuffled.csv', 'wb') as file: \n",
    "    csv.writer(file).writerows([header] + rows)\n",
    "'''     \n"
   ]
  },
  {
   "cell_type": "code",
   "execution_count": 50,
   "metadata": {
    "collapsed": false
   },
   "outputs": [],
   "source": [
    "ratings = []\n",
    "i = 0\n",
    "with open('ratings_shuffled.csv', 'rb') as file: \n",
    "    reader = csv.DictReader(file, delimiter=',')\n",
    "    for row in reader: \n",
    "        if i >= 2000000: \n",
    "            break\n",
    "        ratings.append(row)\n",
    "        i = i + 1\n",
    "        "
   ]
  }
 ],
 "metadata": {
  "anaconda-cloud": {},
  "kernelspec": {
   "display_name": "Python [conda root]",
   "language": "python",
   "name": "conda-root-py"
  },
  "language_info": {
   "codemirror_mode": {
    "name": "ipython",
    "version": 2
   },
   "file_extension": ".py",
   "mimetype": "text/x-python",
   "name": "python",
   "nbconvert_exporter": "python",
   "pygments_lexer": "ipython2",
   "version": "2.7.12"
  }
 },
 "nbformat": 4,
 "nbformat_minor": 1
}
